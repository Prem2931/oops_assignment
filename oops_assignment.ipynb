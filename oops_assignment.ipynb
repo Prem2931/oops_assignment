{
 "cells": [
  {
   "cell_type": "code",
   "execution_count": 1,
   "id": "3134196c-adaa-4818-afea-cd20626d9fe8",
   "metadata": {},
   "outputs": [],
   "source": [
    "# 1. What are the five key concepts of Object-Oriented Programming (OOP)?\n",
    "\n",
    "\n",
    "# Ans:\n",
    "# The five key concepts of OOP are:\n",
    "# * Encapsulation: Bundling data and methods that operate on the data within a class.\n",
    "# * Abstraction: Hiding the complex reality while exposing only the necessary parts.\n",
    "# * Inheritance: Deriving new classes from existing ones, sharing attributes and behaviors.\n",
    "# * Polymorphism: The ability to use a shared interface for different underlying forms (methods or objects).\n",
    "# * Composition: Building complex objects by combining simpler ones."
   ]
  },
  {
   "cell_type": "code",
   "execution_count": 2,
   "id": "52e1acc9-5c21-4553-a433-a99705bae411",
   "metadata": {},
   "outputs": [
    {
     "name": "stdout",
     "output_type": "stream",
     "text": [
      "Car Make: Toyota, Model: Camry, Year: 2021\n"
     ]
    }
   ],
   "source": [
    "# 2. Write a Python class for a `Car` with attributes for `make`, `model`, and `year`. Include a method to display the car's information.\n",
    "\n",
    "\n",
    "# code->\n",
    "class Car:\n",
    "    def __init__(self, make, model, year):\n",
    "        self.make = make\n",
    "        self.model = model\n",
    "        self.year = year\n",
    "        \n",
    "    def display_info(self):\n",
    "        print(f\"Car Make: {self.make}, Model: {self.model}, Year: {self.year}\")\n",
    "        \n",
    "car = Car('Toyota', 'Camry', 2021)\n",
    "car.display_info()"
   ]
  },
  {
   "cell_type": "code",
   "execution_count": 3,
   "id": "c8102b7a-73e4-4b37-b251-15a6166bbc07",
   "metadata": {},
   "outputs": [
    {
     "name": "stdout",
     "output_type": "stream",
     "text": [
      "Instance value: 10\n",
      "Class method called\n"
     ]
    }
   ],
   "source": [
    "# 3. Explain the difference between instance methods and class methods. Provide an example of each.\n",
    "\n",
    "# Ans:\n",
    "# Instance methods: Operate on an instance of the class. They have access to the instance through self.\n",
    "# Class methods: Operate on the class itself, not instances, and are called using cls.\n",
    "\n",
    "# code->\n",
    "class Example:\n",
    "    def __init__(self, value):\n",
    "        self.value = value\n",
    "    \n",
    "    def instance_meth(self):\n",
    "        return f\"Instance value: {self.value}\"\n",
    "    \n",
    "    @classmethod\n",
    "    def class_method(cls):\n",
    "        return \"Class method called\"\n",
    "    \n",
    "# Instance method\n",
    "ex = Example(10)\n",
    "print(ex.instance_meth())\n",
    "\n",
    "# Class method\n",
    "print(Example.class_method())"
   ]
  },
  {
   "cell_type": "code",
   "execution_count": 4,
   "id": "f76ed4f9-2862-4bb8-a020-c3382c6d8616",
   "metadata": {},
   "outputs": [
    {
     "name": "stdout",
     "output_type": "stream",
     "text": [
      "5\n",
      "15\n"
     ]
    }
   ],
   "source": [
    "# 4. How does Python implement method overloading? Give an example.\n",
    "\n",
    "# Ans\n",
    "# Python does not support traditional method overloading like Java or C++. Instead, method overloading is achieved by default arguments or variable-length arguments (*args, **kwargs)\n",
    "\n",
    "# code->\n",
    "class Example:\n",
    "    def method(self, a, b=None):\n",
    "        if b is not None:\n",
    "            return a+b\n",
    "        return a\n",
    "\n",
    "ex = Example()\n",
    "print(ex.method(5))\n",
    "print(ex.method(5, 10))"
   ]
  },
  {
   "cell_type": "code",
   "execution_count": 5,
   "id": "af3a3ab5-f544-484a-9722-9dc8935dc7a0",
   "metadata": {},
   "outputs": [],
   "source": [
    "# 5. What are the three types of access modifiers in Python? How are they denoted?\n",
    "\n",
    "# Ans:\n",
    "# Public: Accessible everywhere. (No underscore before the name).\n",
    "# Protected: Should not be accessed outside the class, but still can be. Denoted by a single underscore (_).\n",
    "# Private: Accessible only within the class. Denoted by double underscore (__)."
   ]
  },
  {
   "cell_type": "code",
   "execution_count": 6,
   "id": "a970fa0b-5bd7-486b-8dcf-383c6115944e",
   "metadata": {},
   "outputs": [
    {
     "name": "stdout",
     "output_type": "stream",
     "text": [
      "Method A\n",
      "Method B\n",
      "Method C\n"
     ]
    }
   ],
   "source": [
    "# 6. Describe the five types of inheritance in Python. Provide a simple example of multiple inheritance.\n",
    "\n",
    "# Ans:\n",
    "# Single Inheritance: A class inherits from one parent class.\n",
    "# Multiple Inheritance: A class inherits from more than one parent class.\n",
    "# Multilevel Inheritance: A class inherits from a class that already inherits from another class.\n",
    "# Hierarchical Inheritance: Multiple classes inherit from the same parent class.\n",
    "# Hybrid Inheritance: A combination of two or more types of inheritance.\n",
    "\n",
    "# * Example for multiple inheritance->\n",
    "class A:\n",
    "    def meth_a(self):\n",
    "        return \"Method A\"\n",
    "class B:\n",
    "    def meth_b(self):\n",
    "        return \"Method B\"\n",
    "    \n",
    "class C(A, B):\n",
    "    def meth_c(self):\n",
    "        return \"Method C\"\n",
    "c = C()\n",
    "print(c.meth_a())\n",
    "print(c.meth_b())\n",
    "print(c.meth_c())"
   ]
  },
  {
   "cell_type": "code",
   "execution_count": 7,
   "id": "ff46985d-eee9-4c5a-bc67-23e61d7258c0",
   "metadata": {},
   "outputs": [
    {
     "name": "stdout",
     "output_type": "stream",
     "text": [
      "[<class '__main__.B'>, <class '__main__.A'>, <class 'object'>]\n"
     ]
    }
   ],
   "source": [
    "# 7. What is the Method Resolution Order (MRO) in Python? How can you retrieve it programmatically?\n",
    "\n",
    "# Ans:\n",
    "# MRO is the order in which Python looks for a method in a hierarchy of classes. It is used in multiple inheritance scenarios to decide which method to call.\n",
    "\n",
    "# code->\n",
    "class A:\n",
    "    pass\n",
    "\n",
    "class B(A):\n",
    "    pass\n",
    "\n",
    "print(B.mro())"
   ]
  },
  {
   "cell_type": "code",
   "execution_count": 8,
   "id": "c31ff715-4be1-45e1-85bd-4f156cdd4da1",
   "metadata": {},
   "outputs": [],
   "source": [
    "# 8. Create an abstract base class `Shape` with an abstract method `area()`. Then create two subclasses\n",
    "# `Circle` and `Rectangle` that implement the `area()` method.\n",
    "\n",
    "# code->\n",
    "from abc import ABC, abstractmethod\n",
    "import math\n",
    "\n",
    "class Shape(ABC):\n",
    "    @abstractmethod\n",
    "    def area(self):\n",
    "        pass\n",
    "\n",
    "class Circle(Shape):\n",
    "    def __init__(self, radius):\n",
    "        self.radius = radius\n",
    "    \n",
    "    def area(self):\n",
    "        return math.pi*self.radius**2\n",
    "\n",
    "class Rectangle(Shape):\n",
    "    def __init__(self, width, length):\n",
    "            self.width = width\n",
    "            self.length = length\n",
    "    \n",
    "    def area(self):\n",
    "        return self.width*self.length"
   ]
  },
  {
   "cell_type": "code",
   "execution_count": 9,
   "id": "43aea72c-4d4c-4b8b-84ff-d1210248572e",
   "metadata": {},
   "outputs": [
    {
     "name": "stdout",
     "output_type": "stream",
     "text": [
      "Area of circle:  78.53981633974483\n",
      "Area of rectangle:  40\n"
     ]
    }
   ],
   "source": [
    "cir = Circle(5)\n",
    "rec = Rectangle(4, 10)\n",
    "print(\"Area of circle: \", cir.area())\n",
    "print(\"Area of rectangle: \", rec.area())"
   ]
  },
  {
   "cell_type": "code",
   "execution_count": 10,
   "id": "268ff99e-d624-4738-9bff-85ff273531d1",
   "metadata": {},
   "outputs": [
    {
     "name": "stdout",
     "output_type": "stream",
     "text": [
      "The area is: 78.53981633974483\n",
      "The area is: 24\n"
     ]
    }
   ],
   "source": [
    "# 9. Demonstrate polymorphism by creating a function that can work with different shape objects to calculate\n",
    "# and print their areas.\n",
    "\n",
    "# code->\n",
    "def print_area(shape):\n",
    "    print(f\"The area is: {shape.area()}\")\n",
    "\n",
    "circle = Circle(5)\n",
    "rectangle = Rectangle(4, 6)\n",
    "\n",
    "print_area(circle)  \n",
    "print_area(rectangle)"
   ]
  },
  {
   "cell_type": "code",
   "execution_count": 11,
   "id": "0a0488e2-2e19-4efe-b619-293afcf4a620",
   "metadata": {},
   "outputs": [
    {
     "name": "stdout",
     "output_type": "stream",
     "text": [
      "Amount present after depositing:\n",
      "150\n",
      "Amount present after withdrawl:\n",
      "120\n"
     ]
    }
   ],
   "source": [
    "# 10. Implement encapsulation in a `BankAccount` class with private attributes for `balance` and\n",
    "# `account_number`. Include methods for deposit, withdrawal, and balance inquiry.\n",
    "\n",
    "\n",
    "# code->\n",
    "class BankAccount:\n",
    "    def __init__(self, account_number, balance=0):\n",
    "        self.__account_number = account_number\n",
    "        self.__balance = balance\n",
    "        \n",
    "    def deposit(self, amount):\n",
    "        self.__balance += amount\n",
    "        \n",
    "    def withdraw(self, amount):\n",
    "        if amount > self.__balance:\n",
    "            print(\"Insufficient funds\")\n",
    "        else:\n",
    "            self.__balance -= amount\n",
    "    \n",
    "    def get_balance(self):\n",
    "        return self.__balance\n",
    "    \n",
    "account = BankAccount(\"123456789\", 100)\n",
    "print(\"Amount present after depositing:\")\n",
    "account.deposit(50)\n",
    "print(account.get_balance())\n",
    "print(\"Amount present after withdrawl:\")\n",
    "account.withdraw(30)\n",
    "print(account.get_balance())\n",
    "  # Output: 120"
   ]
  },
  {
   "cell_type": "code",
   "execution_count": 12,
   "id": "8e031086-b86d-4de0-be56-5e2aee236d47",
   "metadata": {},
   "outputs": [
    {
     "name": "stdout",
     "output_type": "stream",
     "text": [
      "CustomNumber: 5\n",
      "CustomNumber: 15\n"
     ]
    }
   ],
   "source": [
    "# 11. Write a class that overrides the `__str__` and `__add__` magic methods. What will these methods allow\n",
    "# you to do?\n",
    "\n",
    "# code->\n",
    "class CustomNumber:\n",
    "    def __init__(self, value):\n",
    "        self.value = value\n",
    "\n",
    "    def __str__(self):\n",
    "        return f\"CustomNumber: {self.value}\"\n",
    "\n",
    "    def __add__(self, other):\n",
    "        return CustomNumber(self.value + other.value)\n",
    "\n",
    "# Example usage\n",
    "num1 = CustomNumber(5)\n",
    "num2 = CustomNumber(10)\n",
    "print(num1)  # Output: CustomNumber: 5\n",
    "result = num1 + num2\n",
    "print(result)  # Output: CustomNumber: 15"
   ]
  },
  {
   "cell_type": "code",
   "execution_count": 13,
   "id": "a0c0af66-245d-4d31-8b7a-10d5844c7c3c",
   "metadata": {},
   "outputs": [
    {
     "name": "stdout",
     "output_type": "stream",
     "text": [
      "Execution time: 1.0010688304901123 seconds\n"
     ]
    }
   ],
   "source": [
    "# 12. Create a decorator that measures and prints the execution time of a function.\n",
    "\n",
    "# code->\n",
    "import time\n",
    "\n",
    "def measure_time(func):\n",
    "    def wrapper(*args, **kwargs):\n",
    "        start_time = time.time()\n",
    "        result = func(*args, **kwargs)\n",
    "        end_time = time.time()\n",
    "        print(f\"Execution time: {end_time - start_time} seconds\")\n",
    "        return result\n",
    "    return wrapper\n",
    "\n",
    "# Example usage\n",
    "@measure_time\n",
    "def example_function():\n",
    "    time.sleep(1)\n",
    "\n",
    "example_function()  # Output: Execution time: 1.0 seconds (approximately)\n"
   ]
  },
  {
   "cell_type": "code",
   "execution_count": 14,
   "id": "df1b6d7c-907c-4d9d-9787-2e6f99f21fdd",
   "metadata": {},
   "outputs": [
    {
     "name": "stdout",
     "output_type": "stream",
     "text": [
      "B method\n",
      "[<class '__main__.D'>, <class '__main__.B'>, <class '__main__.C'>, <class '__main__.A'>, <class 'object'>]\n"
     ]
    }
   ],
   "source": [
    "# 13. Explain the concept of the Diamond Problem in multiple inheritance. How does Python resolve it?\n",
    "\n",
    "# Ans->\n",
    "# The Diamond Problem occurs when a class inherits from two classes that both inherit from a single base class. \n",
    "# This can create ambiguity in method resolution because there might be multiple inheritance paths to the same method in the base class.\n",
    "\n",
    "# Python resolves this issue using the Method Resolution Order (MRO), which determines the order in which methods should be inherited.\n",
    "# Python uses the C3 linearization algorithm to resolve the order, ensuring that each parent class is called only once \n",
    "# and in the correct order.\n",
    "\n",
    "# code->\n",
    "class A:\n",
    "    def method(self):\n",
    "        print(\"A method\")\n",
    "\n",
    "class B(A):\n",
    "    def method(self):\n",
    "        print(\"B method\")\n",
    "\n",
    "class C(A):\n",
    "    def method(self):\n",
    "        print(\"C method\")\n",
    "\n",
    "class D(B, C):\n",
    "    pass\n",
    "\n",
    "d = D()\n",
    "d.method()  # Output: B method\n",
    "print(D.mro())  # Output: [D, B, C, A, object]"
   ]
  },
  {
   "cell_type": "code",
   "execution_count": 15,
   "id": "c700335d-fb74-40aa-87a9-b7b30bce720b",
   "metadata": {},
   "outputs": [
    {
     "name": "stdout",
     "output_type": "stream",
     "text": [
      "2\n"
     ]
    }
   ],
   "source": [
    "# 14. Write a class method that keeps track of the number of instances created from a class.\n",
    "\n",
    "# code->\n",
    "class InstanceCounter:\n",
    "    count = 0\n",
    "\n",
    "    def __init__(self):\n",
    "        InstanceCounter.count += 1\n",
    "\n",
    "    @classmethod\n",
    "    def get_instance_count(cls):\n",
    "        return cls.count\n",
    "\n",
    "# Example usage\n",
    "obj1 = InstanceCounter()\n",
    "obj2 = InstanceCounter()\n",
    "print(InstanceCounter.get_instance_count())  # Output: 2\n"
   ]
  },
  {
   "cell_type": "code",
   "execution_count": 16,
   "id": "477d189a-8ec3-4d1b-8224-43a6d08f8ba1",
   "metadata": {},
   "outputs": [
    {
     "name": "stdout",
     "output_type": "stream",
     "text": [
      "True\n",
      "False\n"
     ]
    }
   ],
   "source": [
    "# 15. Implement a static method in a class that checks if a given year is a leap year.\n",
    "\n",
    "# code->\n",
    "class Year:\n",
    "    @staticmethod\n",
    "    def is_leap_year(year):\n",
    "        if (year % 4 == 0 and year % 100 != 0) or (year % 400 == 0):\n",
    "            return True\n",
    "        return False\n",
    "\n",
    "# Example usage\n",
    "print(Year.is_leap_year(2020))  # Output: True\n",
    "print(Year.is_leap_year(2023))  # Output: False\n"
   ]
  },
  {
   "cell_type": "code",
   "execution_count": null,
   "id": "28a412bd-a280-410a-b06a-170203d4d005",
   "metadata": {},
   "outputs": [],
   "source": []
  }
 ],
 "metadata": {
  "kernelspec": {
   "display_name": "Python 3 (ipykernel)",
   "language": "python",
   "name": "python3"
  },
  "language_info": {
   "codemirror_mode": {
    "name": "ipython",
    "version": 3
   },
   "file_extension": ".py",
   "mimetype": "text/x-python",
   "name": "python",
   "nbconvert_exporter": "python",
   "pygments_lexer": "ipython3",
   "version": "3.10.8"
  }
 },
 "nbformat": 4,
 "nbformat_minor": 5
}
